{
 "cells": [
  {
   "cell_type": "markdown",
   "id": "bc8d9a6f-1daf-478e-a29f-7b605a2bf64c",
   "metadata": {},
   "source": [
    "# TITULO 1"
   ]
  },
  {
   "cell_type": "markdown",
   "id": "80e1eb1d-cc34-4682-946e-acd41ebef26b",
   "metadata": {},
   "source": [
    "## Titulo 2"
   ]
  },
  {
   "cell_type": "markdown",
   "id": "7fa7ee43-724e-4ee2-9e12-ffad58bd8e2e",
   "metadata": {},
   "source": [
    "### Titulo 3"
   ]
  },
  {
   "cell_type": "markdown",
   "id": "86200cea-5532-4cfe-bd2c-ed6388c99b90",
   "metadata": {},
   "source": [
    "- Lista1\n",
    "- Lista2\n",
    "- Lista3"
   ]
  },
  {
   "cell_type": "markdown",
   "id": "d8e8377a-9b29-434a-bade-e0606359524c",
   "metadata": {},
   "source": [
    "* Lista1\n",
    "* Lista2\n",
    "* Lista3"
   ]
  },
  {
   "cell_type": "markdown",
   "id": "c89487a7-c942-42a2-b9ce-220c016c4558",
   "metadata": {},
   "source": [
    "+ Lista1\n",
    "+ Lista2\n",
    "+ Lista3"
   ]
  },
  {
   "cell_type": "markdown",
   "id": "6e5f57ea-2d92-4459-bfa2-82435f98a396",
   "metadata": {},
   "source": [
    "1. Primer tema\n",
    "2. Segundo tema\n",
    "3. Tercer tema"
   ]
  },
  {
   "cell_type": "markdown",
   "id": "3dc2e77f-59d0-4183-9f24-0317d42200e5",
   "metadata": {},
   "source": [
    "Escribir texto simple  \n",
    "*Escribir texto en cursiva*   \n",
    "**Escribir texto en negritas** "
   ]
  },
  {
   "cell_type": "markdown",
   "id": "0f33dc1c-fbdd-4c59-81f5-81da57df8cd2",
   "metadata": {},
   "source": [
    "> “*Vivir es nacer a cada instante*.” Erich Fromm."
   ]
  },
  {
   "cell_type": "markdown",
   "id": "6be34745-4072-4865-8592-1c8453d50d4f",
   "metadata": {},
   "source": [
    "`código en línea`"
   ]
  },
  {
   "cell_type": "markdown",
   "id": "2b0dc11e-9864-4abc-9ed3-53d33788768c",
   "metadata": {},
   "source": [
    "[texto del enlace](http://ejemplo.com)"
   ]
  },
  {
   "cell_type": "markdown",
   "id": "7cdc03c3-a4ff-4638-b09f-f18884b19be1",
   "metadata": {},
   "source": [
    "![texto alternativo](https://uxwing.com/wp-content/themes/uxwing/download/brands-and-social-media/markdown-icon.png)"
   ]
  },
  {
   "cell_type": "markdown",
   "id": "44785b3b-a869-4b79-894a-e3deedb98791",
   "metadata": {},
   "source": [
    "![texto alternativo](www.image.com)"
   ]
  },
  {
   "cell_type": "markdown",
   "id": "794f40f5-937f-497d-af86-f3ce2c096882",
   "metadata": {},
   "source": [
    "![texto alternativo](ca.jpg)"
   ]
  },
  {
   "cell_type": "markdown",
   "id": "55982461-1ed6-400e-90d4-71d1ec2bcdb9",
   "metadata": {},
   "source": [
    "![texto alternativo](img/ca.jpg)"
   ]
  },
  {
   "cell_type": "code",
   "execution_count": null,
   "id": "60522ff5-dde7-491a-856e-107983d76b3e",
   "metadata": {},
   "outputs": [],
   "source": []
  }
 ],
 "metadata": {
  "kernelspec": {
   "display_name": "Python 3 (ipykernel)",
   "language": "python",
   "name": "python3"
  },
  "language_info": {
   "codemirror_mode": {
    "name": "ipython",
    "version": 3
   },
   "file_extension": ".py",
   "mimetype": "text/x-python",
   "name": "python",
   "nbconvert_exporter": "python",
   "pygments_lexer": "ipython3",
   "version": "3.12.5"
  }
 },
 "nbformat": 4,
 "nbformat_minor": 5
}
