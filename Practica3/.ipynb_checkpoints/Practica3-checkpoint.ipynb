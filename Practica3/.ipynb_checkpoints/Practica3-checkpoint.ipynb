{
 "cells": [
  {
   "cell_type": "markdown",
   "id": "5336e2b4-4b8e-4cfc-9265-e2d03d470143",
   "metadata": {},
   "source": [
    "# Gráfica de pastel en Python\n",
    "\n",
    "En este curso, aprenderemos a crear gráficas de pastel utilizando el dataset del Titanic. El objetivo es entender la distribución de datos y cómo visualizarlos de manera efectiva."
   ]
  },
  {
   "cell_type": "markdown",
   "id": "15cde894-5820-4926-bba3-6cab00c54fe6",
   "metadata": {},
   "source": [
    "### 1. Importar librerias e inspeccionar dataset"
   ]
  },
  {
   "cell_type": "code",
   "execution_count": 1,
   "id": "24eb8a3d-b649-4de5-a80a-c545c406d966",
   "metadata": {},
   "outputs": [],
   "source": [
    "import pandas as pd"
   ]
  },
  {
   "cell_type": "code",
   "execution_count": 2,
   "id": "3569e8bb-659d-4158-aa74-f21a7ec42806",
   "metadata": {},
   "outputs": [],
   "source": [
    "import matplotlib.pyplot as plt"
   ]
  },
  {
   "cell_type": "code",
   "execution_count": 3,
   "id": "e17ad4f7-afc2-4491-888b-cca318fe32b0",
   "metadata": {},
   "outputs": [
    {
     "data": {
      "text/html": [
       "<div>\n",
       "<style scoped>\n",
       "    .dataframe tbody tr th:only-of-type {\n",
       "        vertical-align: middle;\n",
       "    }\n",
       "\n",
       "    .dataframe tbody tr th {\n",
       "        vertical-align: top;\n",
       "    }\n",
       "\n",
       "    .dataframe thead th {\n",
       "        text-align: right;\n",
       "    }\n",
       "</style>\n",
       "<table border=\"1\" class=\"dataframe\">\n",
       "  <thead>\n",
       "    <tr style=\"text-align: right;\">\n",
       "      <th></th>\n",
       "      <th>PassengerId</th>\n",
       "      <th>Survived</th>\n",
       "      <th>Pclass</th>\n",
       "      <th>Name</th>\n",
       "      <th>Sex</th>\n",
       "      <th>Age</th>\n",
       "      <th>SibSp</th>\n",
       "      <th>Parch</th>\n",
       "      <th>Ticket</th>\n",
       "      <th>Fare</th>\n",
       "      <th>Cabin</th>\n",
       "      <th>Embarked</th>\n",
       "    </tr>\n",
       "  </thead>\n",
       "  <tbody>\n",
       "    <tr>\n",
       "      <th>0</th>\n",
       "      <td>1</td>\n",
       "      <td>0</td>\n",
       "      <td>3</td>\n",
       "      <td>Braund, Mr. Owen Harris</td>\n",
       "      <td>male</td>\n",
       "      <td>22.0</td>\n",
       "      <td>1</td>\n",
       "      <td>0</td>\n",
       "      <td>A/5 21171</td>\n",
       "      <td>7.2500</td>\n",
       "      <td>NaN</td>\n",
       "      <td>S</td>\n",
       "    </tr>\n",
       "    <tr>\n",
       "      <th>1</th>\n",
       "      <td>2</td>\n",
       "      <td>1</td>\n",
       "      <td>1</td>\n",
       "      <td>Cumings, Mrs. John Bradley (Florence Briggs Th...</td>\n",
       "      <td>female</td>\n",
       "      <td>38.0</td>\n",
       "      <td>1</td>\n",
       "      <td>0</td>\n",
       "      <td>PC 17599</td>\n",
       "      <td>71.2833</td>\n",
       "      <td>C85</td>\n",
       "      <td>C</td>\n",
       "    </tr>\n",
       "    <tr>\n",
       "      <th>2</th>\n",
       "      <td>3</td>\n",
       "      <td>1</td>\n",
       "      <td>3</td>\n",
       "      <td>Heikkinen, Miss. Laina</td>\n",
       "      <td>female</td>\n",
       "      <td>26.0</td>\n",
       "      <td>0</td>\n",
       "      <td>0</td>\n",
       "      <td>STON/O2. 3101282</td>\n",
       "      <td>7.9250</td>\n",
       "      <td>NaN</td>\n",
       "      <td>S</td>\n",
       "    </tr>\n",
       "    <tr>\n",
       "      <th>3</th>\n",
       "      <td>4</td>\n",
       "      <td>1</td>\n",
       "      <td>1</td>\n",
       "      <td>Futrelle, Mrs. Jacques Heath (Lily May Peel)</td>\n",
       "      <td>female</td>\n",
       "      <td>35.0</td>\n",
       "      <td>1</td>\n",
       "      <td>0</td>\n",
       "      <td>113803</td>\n",
       "      <td>53.1000</td>\n",
       "      <td>C123</td>\n",
       "      <td>S</td>\n",
       "    </tr>\n",
       "    <tr>\n",
       "      <th>4</th>\n",
       "      <td>5</td>\n",
       "      <td>0</td>\n",
       "      <td>3</td>\n",
       "      <td>Allen, Mr. William Henry</td>\n",
       "      <td>male</td>\n",
       "      <td>35.0</td>\n",
       "      <td>0</td>\n",
       "      <td>0</td>\n",
       "      <td>373450</td>\n",
       "      <td>8.0500</td>\n",
       "      <td>NaN</td>\n",
       "      <td>S</td>\n",
       "    </tr>\n",
       "  </tbody>\n",
       "</table>\n",
       "</div>"
      ],
      "text/plain": [
       "   PassengerId  Survived  Pclass  \\\n",
       "0            1         0       3   \n",
       "1            2         1       1   \n",
       "2            3         1       3   \n",
       "3            4         1       1   \n",
       "4            5         0       3   \n",
       "\n",
       "                                                Name     Sex   Age  SibSp  \\\n",
       "0                            Braund, Mr. Owen Harris    male  22.0      1   \n",
       "1  Cumings, Mrs. John Bradley (Florence Briggs Th...  female  38.0      1   \n",
       "2                             Heikkinen, Miss. Laina  female  26.0      0   \n",
       "3       Futrelle, Mrs. Jacques Heath (Lily May Peel)  female  35.0      1   \n",
       "4                           Allen, Mr. William Henry    male  35.0      0   \n",
       "\n",
       "   Parch            Ticket     Fare Cabin Embarked  \n",
       "0      0         A/5 21171   7.2500   NaN        S  \n",
       "1      0          PC 17599  71.2833   C85        C  \n",
       "2      0  STON/O2. 3101282   7.9250   NaN        S  \n",
       "3      0            113803  53.1000  C123        S  \n",
       "4      0            373450   8.0500   NaN        S  "
      ]
     },
     "execution_count": 3,
     "metadata": {},
     "output_type": "execute_result"
    }
   ],
   "source": [
    "df = pd.read_csv(\"titanic.csv\")\n",
    "df.head()"
   ]
  },
  {
   "cell_type": "markdown",
   "id": "2013dbb9-de0a-419b-bc43-be0f2cca5356",
   "metadata": {},
   "source": [
    "### Analizar los datos para dar respuesta a la siguiente interrogante: ¿Cual es el porcentaje de hombres y mujeres que habian en el Titanic?"
   ]
  },
  {
   "cell_type": "markdown",
   "id": "7ac2dd21-3637-4995-a821-97936ac02149",
   "metadata": {},
   "source": [
    "### 2. Funcion para hacer un conteo de datos"
   ]
  },
  {
   "cell_type": "code",
   "execution_count": 9,
   "id": "139daa38-29ab-473a-8276-da2891f1908a",
   "metadata": {},
   "outputs": [],
   "source": [
    "conteo_sexo = df['Sex'].value_counts() "
   ]
  },
  {
   "cell_type": "code",
   "execution_count": 10,
   "id": "133d4f9d-e261-468d-9140-eff7cf127e87",
   "metadata": {},
   "outputs": [
    {
     "data": {
      "text/plain": [
       "Sex\n",
       "male      577\n",
       "female    314\n",
       "Name: count, dtype: int64"
      ]
     },
     "execution_count": 10,
     "metadata": {},
     "output_type": "execute_result"
    }
   ],
   "source": [
    "conteo_sexo"
   ]
  },
  {
   "cell_type": "markdown",
   "id": "4b2acb99-b9f0-401a-b3fa-ebfdd7e7f57d",
   "metadata": {},
   "source": [
    "### 3. Hacer grafica de pastel"
   ]
  },
  {
   "cell_type": "code",
   "execution_count": 31,
   "id": "aadcb619-c732-4e61-9047-949dcec1d981",
   "metadata": {},
   "outputs": [
    {
     "data": {
      "text/plain": [
       "Text(0.5, 1.0, 'Distribución de Sexo en el Titanic')"
      ]
     },
     "execution_count": 31,
     "metadata": {},
     "output_type": "execute_result"
    },
    {
     "data": {
      "image/png": "[encoded data removed]",
      "text/plain": [
       "<Figure size 800x600 with 1 Axes>"
      ]
     },
     "metadata": {},
     "output_type": "display_data"
    }
   ],
   "source": [
    "plt.figure(figsize=(8, 6))  # Tamaño de la figura\n",
    "plt.pie(\n",
    "    conteo_sexo,               # Datos a graficar\n",
    "    labels=conteo_sexo.index,  # Etiquetas para cada segmento\n",
    "    autopct='%1.1f%%',          # Mostrar el porcentaje en cada segmento\n",
    "    startangle=140,             # Ángulo de inicio del gráfico   \n",
    ")\n",
    "\n",
    "plt.title('Distribución de Sexo en el Titanic')  # Título del gráfico"
   ]
  },
  {
   "cell_type": "code",
   "execution_count": 32,
   "id": "9c22360f-ab55-4300-9290-e71c0c64a078",
   "metadata": {},
   "outputs": [
    {
     "data": {
      "text/plain": [
       "Text(0.5, 1.0, 'Distribución de Sexo en el Titanic')"
      ]
     },
     "execution_count": 32,
     "metadata": {},
     "output_type": "execute_result"
    },
    {
     "data": {
      "image/png": "[encoded data removed]",
      "text/plain": [
       "<Figure size 800x600 with 1 Axes>"
      ]
     },
     "metadata": {},
     "output_type": "display_data"
    }
   ],
   "source": [
    "plt.figure(figsize=(8, 6))  # Tamaño de la figura\n",
    "plt.pie(\n",
    "    conteo_sexo,               # Datos a graficar\n",
    "    labels=conteo_sexo.index,  # Etiquetas para cada segmento\n",
    "    autopct='%1.1f%%',          # Mostrar el porcentaje en cada segmento\n",
    "    startangle=140,             # Ángulo de inicio del gráfico   \n",
    ")\n",
    "\n",
    "\n",
    "# Agregar una leyenda\n",
    "plt.legend(\n",
    "    loc='best',  # Ubicación de la leyenda, 'best' encuentra la mejor ubicación automáticamente\n",
    "    title='Sexo',  # Título de la leyenda\n",
    "    #frameon=False  # Opcional: sin marco alrededor de la leyenda\n",
    ")\n",
    "\n",
    "plt.title('Distribución de Sexo en el Titanic')  # Título del gráfico"
   ]
  },
  {
   "cell_type": "code",
   "execution_count": null,
   "id": "7e778e17-f1a7-4e20-9958-28c9b0713da9",
   "metadata": {},
   "outputs": [],
   "source": [
    "plt.figure(figsize=(8, 6))  # Tamaño de la figura\n",
    "plt.pie(\n",
    "    conteo_sexo,               # Datos a graficar\n",
    "    labels=conteo_sexo.index,  # Etiquetas para cada segmento\n",
    "    autopct='%1.1f%%',          # Mostrar el porcentaje en cada segmento\n",
    "    startangle=140,             # Ángulo de inicio del gráfico   \n",
    "    wedgeprops={\n",
    "        \n",
    "        'width': 0.3             # Ancho del \"anillo\" (0.3 es el ancho del anillo, puedes ajustarlo según tus preferencias)\n",
    "    }\n",
    ")\n",
    "\n",
    "\n",
    "# Agregar una leyenda\n",
    "plt.legend(\n",
    "    loc='best',  # Ubicación de la leyenda, 'best' encuentra la mejor ubicación automáticamente\n",
    "    title='Sexo',  # Título de la leyenda\n",
    ")\n",
    "\n",
    "plt.title('Distribución de Sexo en el Titanic')  # Título del gráfico"
   ]
  }
 ],
 "metadata": {
  "kernelspec": {
   "display_name": "Python 3 (ipykernel)",
   "language": "python",
   "name": "python3"
  },
  "language_info": {
   "codemirror_mode": {
    "name": "ipython",
    "version": 3
   },
   "file_extension": ".py",
   "mimetype": "text/x-python",
   "name": "python",
   "nbconvert_exporter": "python",
   "pygments_lexer": "ipython3",
   "version": "3.12.5"
  }
 },
 "nbformat": 4,
 "nbformat_minor": 5
}
